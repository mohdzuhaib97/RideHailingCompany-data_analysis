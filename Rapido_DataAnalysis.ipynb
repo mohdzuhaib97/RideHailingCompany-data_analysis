{
 "cells": [
  {
   "cell_type": "markdown",
   "metadata": {},
   "source": [
    "**Dataset: Released by the two wheeler ride hailing company rapido.**\n",
    "### Data Analysis and finding insights from the data"
   ]
  },
  {
   "cell_type": "code",
   "execution_count": 3,
   "metadata": {},
   "outputs": [],
   "source": [
    "import pandas as pd\n",
    "import numpy as np\n",
    "import matplotlib.pyplot as plt\n",
    "import seaborn as sns"
   ]
  },
  {
   "cell_type": "code",
   "execution_count": 142,
   "metadata": {},
   "outputs": [],
   "source": [
    "df=pd.read_excel('Rapido Data Analyst Assignment DataSet (1).xlsx')"
   ]
  },
  {
   "cell_type": "code",
   "execution_count": 4,
   "metadata": {},
   "outputs": [
    {
     "data": {
      "text/html": [
       "<div>\n",
       "<style scoped>\n",
       "    .dataframe tbody tr th:only-of-type {\n",
       "        vertical-align: middle;\n",
       "    }\n",
       "\n",
       "    .dataframe tbody tr th {\n",
       "        vertical-align: top;\n",
       "    }\n",
       "\n",
       "    .dataframe thead th {\n",
       "        text-align: right;\n",
       "    }\n",
       "</style>\n",
       "<table border=\"1\" class=\"dataframe\">\n",
       "  <thead>\n",
       "    <tr style=\"text-align: right;\">\n",
       "      <th></th>\n",
       "      <th>trip_id</th>\n",
       "      <th>customer_id</th>\n",
       "      <th>timestamp</th>\n",
       "      <th>pick_lat</th>\n",
       "      <th>pick_lng</th>\n",
       "      <th>drop_lat</th>\n",
       "      <th>drop_lng</th>\n",
       "      <th>travel_distance</th>\n",
       "      <th>travel_time</th>\n",
       "      <th>trip_fare</th>\n",
       "    </tr>\n",
       "  </thead>\n",
       "  <tbody>\n",
       "    <tr>\n",
       "      <th>0</th>\n",
       "      <td>ID001</td>\n",
       "      <td>CUST_001</td>\n",
       "      <td>1546709270211</td>\n",
       "      <td>17.442705</td>\n",
       "      <td>78.387878</td>\n",
       "      <td>17.457829</td>\n",
       "      <td>78.399056</td>\n",
       "      <td>2.806</td>\n",
       "      <td>12.609667</td>\n",
       "      <td>37</td>\n",
       "    </tr>\n",
       "    <tr>\n",
       "      <th>1</th>\n",
       "      <td>ID002</td>\n",
       "      <td>CUST_002</td>\n",
       "      <td>1546709309524</td>\n",
       "      <td>17.490189</td>\n",
       "      <td>78.415512</td>\n",
       "      <td>17.450548</td>\n",
       "      <td>78.367294</td>\n",
       "      <td>11.991</td>\n",
       "      <td>24.075200</td>\n",
       "      <td>119</td>\n",
       "    </tr>\n",
       "    <tr>\n",
       "      <th>2</th>\n",
       "      <td>ID003</td>\n",
       "      <td>CUST_003</td>\n",
       "      <td>1546709331857</td>\n",
       "      <td>17.370108</td>\n",
       "      <td>78.515045</td>\n",
       "      <td>17.377041</td>\n",
       "      <td>78.517921</td>\n",
       "      <td>1.322</td>\n",
       "      <td>8.708300</td>\n",
       "      <td>27</td>\n",
       "    </tr>\n",
       "    <tr>\n",
       "      <th>3</th>\n",
       "      <td>ID004</td>\n",
       "      <td>CUST_004</td>\n",
       "      <td>1546709358403</td>\n",
       "      <td>17.439314</td>\n",
       "      <td>78.443001</td>\n",
       "      <td>17.397131</td>\n",
       "      <td>78.516586</td>\n",
       "      <td>11.822</td>\n",
       "      <td>24.037550</td>\n",
       "      <td>121</td>\n",
       "    </tr>\n",
       "    <tr>\n",
       "      <th>4</th>\n",
       "      <td>ID005</td>\n",
       "      <td>CUST_005</td>\n",
       "      <td>1546709386884</td>\n",
       "      <td>17.432325</td>\n",
       "      <td>78.381966</td>\n",
       "      <td>17.401625</td>\n",
       "      <td>78.400032</td>\n",
       "      <td>6.978</td>\n",
       "      <td>16.120867</td>\n",
       "      <td>58</td>\n",
       "    </tr>\n",
       "  </tbody>\n",
       "</table>\n",
       "</div>"
      ],
      "text/plain": [
       "  trip_id customer_id      timestamp   pick_lat   pick_lng   drop_lat  \\\n",
       "0   ID001    CUST_001  1546709270211  17.442705  78.387878  17.457829   \n",
       "1   ID002    CUST_002  1546709309524  17.490189  78.415512  17.450548   \n",
       "2   ID003    CUST_003  1546709331857  17.370108  78.515045  17.377041   \n",
       "3   ID004    CUST_004  1546709358403  17.439314  78.443001  17.397131   \n",
       "4   ID005    CUST_005  1546709386884  17.432325  78.381966  17.401625   \n",
       "\n",
       "    drop_lng  travel_distance  travel_time  trip_fare  \n",
       "0  78.399056            2.806    12.609667         37  \n",
       "1  78.367294           11.991    24.075200        119  \n",
       "2  78.517921            1.322     8.708300         27  \n",
       "3  78.516586           11.822    24.037550        121  \n",
       "4  78.400032            6.978    16.120867         58  "
      ]
     },
     "execution_count": 4,
     "metadata": {},
     "output_type": "execute_result"
    }
   ],
   "source": [
    "df.head()"
   ]
  },
  {
   "cell_type": "markdown",
   "metadata": {},
   "source": [
    "We'll convert timestamp to understandable time format to gather inference in the analysis process."
   ]
  },
  {
   "cell_type": "code",
   "execution_count": 145,
   "metadata": {},
   "outputs": [],
   "source": [
    "import time\n",
    "import datetime\n",
    "from datetime import timedelta\n",
    "df['timestamp'] = df['timestamp'].apply(lambda d: time.strftime('%m/%d/%Y %H:%M:%S',  time.gmtime(d/1000.)))"
   ]
  },
  {
   "cell_type": "code",
   "execution_count": 217,
   "metadata": {},
   "outputs": [],
   "source": [
    "df['timestamp'] = pd.to_datetime(df['timestamp'])"
   ]
  },
  {
   "cell_type": "markdown",
   "metadata": {},
   "source": [
    "#### Looking for anomalies in the data:"
   ]
  },
  {
   "cell_type": "code",
   "execution_count": 7,
   "metadata": {},
   "outputs": [
    {
     "data": {
      "text/html": [
       "<div>\n",
       "<style scoped>\n",
       "    .dataframe tbody tr th:only-of-type {\n",
       "        vertical-align: middle;\n",
       "    }\n",
       "\n",
       "    .dataframe tbody tr th {\n",
       "        vertical-align: top;\n",
       "    }\n",
       "\n",
       "    .dataframe thead th {\n",
       "        text-align: right;\n",
       "    }\n",
       "</style>\n",
       "<table border=\"1\" class=\"dataframe\">\n",
       "  <thead>\n",
       "    <tr style=\"text-align: right;\">\n",
       "      <th></th>\n",
       "      <th>count</th>\n",
       "      <th>mean</th>\n",
       "      <th>std</th>\n",
       "      <th>min</th>\n",
       "      <th>25%</th>\n",
       "      <th>50%</th>\n",
       "      <th>75%</th>\n",
       "      <th>max</th>\n",
       "    </tr>\n",
       "  </thead>\n",
       "  <tbody>\n",
       "    <tr>\n",
       "      <th>pick_lat</th>\n",
       "      <td>44587.0</td>\n",
       "      <td>17.427919</td>\n",
       "      <td>0.030049</td>\n",
       "      <td>17.330339</td>\n",
       "      <td>17.405327</td>\n",
       "      <td>17.432136</td>\n",
       "      <td>17.446777</td>\n",
       "      <td>17.529791</td>\n",
       "    </tr>\n",
       "    <tr>\n",
       "      <th>pick_lng</th>\n",
       "      <td>44587.0</td>\n",
       "      <td>78.435542</td>\n",
       "      <td>0.053333</td>\n",
       "      <td>78.308258</td>\n",
       "      <td>78.386562</td>\n",
       "      <td>78.438866</td>\n",
       "      <td>78.480839</td>\n",
       "      <td>78.600647</td>\n",
       "    </tr>\n",
       "    <tr>\n",
       "      <th>drop_lat</th>\n",
       "      <td>44587.0</td>\n",
       "      <td>17.427891</td>\n",
       "      <td>0.037722</td>\n",
       "      <td>12.921696</td>\n",
       "      <td>17.405660</td>\n",
       "      <td>17.431213</td>\n",
       "      <td>17.446907</td>\n",
       "      <td>17.736155</td>\n",
       "    </tr>\n",
       "    <tr>\n",
       "      <th>drop_lng</th>\n",
       "      <td>44587.0</td>\n",
       "      <td>78.434897</td>\n",
       "      <td>0.054965</td>\n",
       "      <td>77.548103</td>\n",
       "      <td>78.385010</td>\n",
       "      <td>78.438164</td>\n",
       "      <td>78.480255</td>\n",
       "      <td>78.634804</td>\n",
       "    </tr>\n",
       "    <tr>\n",
       "      <th>travel_distance</th>\n",
       "      <td>44587.0</td>\n",
       "      <td>5.094359</td>\n",
       "      <td>3.365008</td>\n",
       "      <td>-1.000000</td>\n",
       "      <td>2.744500</td>\n",
       "      <td>4.299000</td>\n",
       "      <td>6.679500</td>\n",
       "      <td>52.801000</td>\n",
       "    </tr>\n",
       "    <tr>\n",
       "      <th>travel_time</th>\n",
       "      <td>44587.0</td>\n",
       "      <td>15.819835</td>\n",
       "      <td>23.462865</td>\n",
       "      <td>0.022750</td>\n",
       "      <td>8.428525</td>\n",
       "      <td>13.126250</td>\n",
       "      <td>20.111167</td>\n",
       "      <td>4134.388700</td>\n",
       "    </tr>\n",
       "    <tr>\n",
       "      <th>trip_fare</th>\n",
       "      <td>44587.0</td>\n",
       "      <td>53.872833</td>\n",
       "      <td>33.430462</td>\n",
       "      <td>20.000000</td>\n",
       "      <td>36.000000</td>\n",
       "      <td>46.000000</td>\n",
       "      <td>60.000000</td>\n",
       "      <td>1670.000000</td>\n",
       "    </tr>\n",
       "  </tbody>\n",
       "</table>\n",
       "</div>"
      ],
      "text/plain": [
       "                   count       mean        std        min        25%  \\\n",
       "pick_lat         44587.0  17.427919   0.030049  17.330339  17.405327   \n",
       "pick_lng         44587.0  78.435542   0.053333  78.308258  78.386562   \n",
       "drop_lat         44587.0  17.427891   0.037722  12.921696  17.405660   \n",
       "drop_lng         44587.0  78.434897   0.054965  77.548103  78.385010   \n",
       "travel_distance  44587.0   5.094359   3.365008  -1.000000   2.744500   \n",
       "travel_time      44587.0  15.819835  23.462865   0.022750   8.428525   \n",
       "trip_fare        44587.0  53.872833  33.430462  20.000000  36.000000   \n",
       "\n",
       "                       50%        75%          max  \n",
       "pick_lat         17.432136  17.446777    17.529791  \n",
       "pick_lng         78.438866  78.480839    78.600647  \n",
       "drop_lat         17.431213  17.446907    17.736155  \n",
       "drop_lng         78.438164  78.480255    78.634804  \n",
       "travel_distance   4.299000   6.679500    52.801000  \n",
       "travel_time      13.126250  20.111167  4134.388700  \n",
       "trip_fare        46.000000  60.000000  1670.000000  "
      ]
     },
     "execution_count": 7,
     "metadata": {},
     "output_type": "execute_result"
    }
   ],
   "source": [
    "df.describe().T"
   ]
  },
  {
   "cell_type": "code",
   "execution_count": 23,
   "metadata": {},
   "outputs": [
    {
     "data": {
      "image/png": "[encoded data removed]",
      "text/plain": [
       "<Figure size 1080x576 with 3 Axes>"
      ]
     },
     "metadata": {},
     "output_type": "display_data"
    }
   ],
   "source": [
    "f, axes = plt.subplots(1, 3, figsize=(15,8))\n",
    "sns.set_style(\"darkgrid\")\n",
    "t = f.suptitle('Box plot to check outlier', fontsize=12)\n",
    "\n",
    "\n",
    "sns.boxplot(y=\"travel_distance\", data=df, ax=axes[0])\n",
    "sns.boxplot(y=\"travel_time\", data=df, ax=axes[1])\n",
    "sns.boxplot(y=\"travel_time\", data=df, ax=axes[2])\n",
    "\n",
    "axes[0].set(xlabel=\"travel_distance\",ylabel='Distribution')\n",
    "axes[1].set(xlabel=\"travel_time\",ylabel='Distribution')\n",
    "axes[2].set(xlabel=\"trip_fare\",ylabel='Distribution')\n",
    "\n",
    "\n",
    "plt.show()"
   ]
  },
  {
   "cell_type": "markdown",
   "metadata": {},
   "source": [
    "***Will have to remove the outlier in travel time, trip fare and we can see travel distance goin in the negative zone. Hence All these data points collected from the apps are having error hence have to be removed.***"
   ]
  },
  {
   "cell_type": "markdown",
   "metadata": {},
   "source": [
    "Checking Null Values:"
   ]
  },
  {
   "cell_type": "code",
   "execution_count": 8,
   "metadata": {},
   "outputs": [
    {
     "data": {
      "text/plain": [
       "trip_id            0\n",
       "customer_id        0\n",
       "timestamp          0\n",
       "pick_lat           0\n",
       "pick_lng           0\n",
       "drop_lat           0\n",
       "drop_lng           0\n",
       "travel_distance    0\n",
       "travel_time        0\n",
       "trip_fare          0\n",
       "dtype: int64"
      ]
     },
     "execution_count": 8,
     "metadata": {},
     "output_type": "execute_result"
    }
   ],
   "source": [
    "df.isna().sum()"
   ]
  },
  {
   "cell_type": "code",
   "execution_count": 146,
   "metadata": {},
   "outputs": [],
   "source": [
    "df=df[~(df['travel_distance']<0)]\n",
    "df=df[~((df['travel_time']>150) & (df['travel_distance']<0.600))]"
   ]
  },
  {
   "cell_type": "markdown",
   "metadata": {},
   "source": [
    "**Deleting ambigous trips with inconsistency in distance and time.**"
   ]
  },
  {
   "cell_type": "code",
   "execution_count": 64,
   "metadata": {},
   "outputs": [
    {
     "data": {
      "text/html": [
       "<div>\n",
       "<style scoped>\n",
       "    .dataframe tbody tr th:only-of-type {\n",
       "        vertical-align: middle;\n",
       "    }\n",
       "\n",
       "    .dataframe tbody tr th {\n",
       "        vertical-align: top;\n",
       "    }\n",
       "\n",
       "    .dataframe thead th {\n",
       "        text-align: right;\n",
       "    }\n",
       "</style>\n",
       "<table border=\"1\" class=\"dataframe\">\n",
       "  <thead>\n",
       "    <tr style=\"text-align: right;\">\n",
       "      <th></th>\n",
       "      <th>trip_id</th>\n",
       "      <th>customer_id</th>\n",
       "      <th>timestamp</th>\n",
       "      <th>pick_lat</th>\n",
       "      <th>pick_lng</th>\n",
       "      <th>drop_lat</th>\n",
       "      <th>drop_lng</th>\n",
       "      <th>travel_distance</th>\n",
       "      <th>travel_time</th>\n",
       "      <th>trip_fare</th>\n",
       "    </tr>\n",
       "  </thead>\n",
       "  <tbody>\n",
       "    <tr>\n",
       "      <th>26722</th>\n",
       "      <td>ID26723</td>\n",
       "      <td>CUST_11066</td>\n",
       "      <td>1546853008950</td>\n",
       "      <td>17.430353</td>\n",
       "      <td>78.406220</td>\n",
       "      <td>17.432350</td>\n",
       "      <td>78.449013</td>\n",
       "      <td>4.0</td>\n",
       "      <td>10.143917</td>\n",
       "      <td>959</td>\n",
       "    </tr>\n",
       "    <tr>\n",
       "      <th>27304</th>\n",
       "      <td>ID27305</td>\n",
       "      <td>CUST_2196</td>\n",
       "      <td>1546858611537</td>\n",
       "      <td>17.404274</td>\n",
       "      <td>78.492340</td>\n",
       "      <td>17.411062</td>\n",
       "      <td>78.493576</td>\n",
       "      <td>2.7</td>\n",
       "      <td>10.949667</td>\n",
       "      <td>959</td>\n",
       "    </tr>\n",
       "    <tr>\n",
       "      <th>36239</th>\n",
       "      <td>ID36240</td>\n",
       "      <td>CUST_6416</td>\n",
       "      <td>1546699878502</td>\n",
       "      <td>17.397224</td>\n",
       "      <td>78.480911</td>\n",
       "      <td>17.428328</td>\n",
       "      <td>78.450958</td>\n",
       "      <td>1.0</td>\n",
       "      <td>1.596217</td>\n",
       "      <td>959</td>\n",
       "    </tr>\n",
       "  </tbody>\n",
       "</table>\n",
       "</div>"
      ],
      "text/plain": [
       "       trip_id customer_id      timestamp   pick_lat   pick_lng   drop_lat  \\\n",
       "26722  ID26723  CUST_11066  1546853008950  17.430353  78.406220  17.432350   \n",
       "27304  ID27305   CUST_2196  1546858611537  17.404274  78.492340  17.411062   \n",
       "36239  ID36240   CUST_6416  1546699878502  17.397224  78.480911  17.428328   \n",
       "\n",
       "        drop_lng  travel_distance  travel_time  trip_fare  \n",
       "26722  78.449013              4.0    10.143917        959  \n",
       "27304  78.493576              2.7    10.949667        959  \n",
       "36239  78.450958              1.0     1.596217        959  "
      ]
     },
     "execution_count": 64,
     "metadata": {},
     "output_type": "execute_result"
    }
   ],
   "source": [
    "df[~(df['trip_fare']==959)] #seems like an error, for a very small trip 959 rs charged"
   ]
  },
  {
   "cell_type": "code",
   "execution_count": 147,
   "metadata": {},
   "outputs": [],
   "source": [
    "df=df[~(df['trip_fare']==959)]\n",
    "df=df[~(df['travel_time']>700)]"
   ]
  },
  {
   "cell_type": "markdown",
   "metadata": {},
   "source": [
    "## We'll start with descriptive analytics and move forward toward inferential analytics. Insights and code comments will be found through out the notebook."
   ]
  },
  {
   "cell_type": "markdown",
   "metadata": {},
   "source": [
    "Total number of trips completed:"
   ]
  },
  {
   "cell_type": "code",
   "execution_count": 67,
   "metadata": {},
   "outputs": [
    {
     "data": {
      "text/plain": [
       "445780"
      ]
     },
     "execution_count": 67,
     "metadata": {},
     "output_type": "execute_result"
    }
   ],
   "source": [
    "df.size"
   ]
  },
  {
   "cell_type": "markdown",
   "metadata": {},
   "source": [
    "Total number of customers associated:"
   ]
  },
  {
   "cell_type": "code",
   "execution_count": 69,
   "metadata": {},
   "outputs": [
    {
     "data": {
      "text/plain": [
       "19136"
      ]
     },
     "execution_count": 69,
     "metadata": {},
     "output_type": "execute_result"
    }
   ],
   "source": [
    "df['customer_id'].nunique()"
   ]
  },
  {
   "cell_type": "markdown",
   "metadata": {},
   "source": [
    "Top Customers:"
   ]
  },
  {
   "cell_type": "code",
   "execution_count": 90,
   "metadata": {},
   "outputs": [
    {
     "data": {
      "image/png": "[encoded data removed]",
      "text/plain": [
       "<Figure size 936x432 with 1 Axes>"
      ]
     },
     "metadata": {},
     "output_type": "display_data"
    }
   ],
   "source": [
    "plt.figure(figsize=(13, 6))\n",
    "df.groupby('customer_id').count().sort_values(by='trip_id',ascending=False)['trip_id'].head(20).plot.bar(color='turquoise')\n",
    "plt.ylabel('Total number of trips')\n",
    "plt.title(\"TOP 20 Customers by RIDE FREQUENCY\")\n",
    "plt.show()"
   ]
  },
  {
   "cell_type": "code",
   "execution_count": 91,
   "metadata": {},
   "outputs": [
    {
     "data": {
      "image/png": "[encoded data removed]",
      "text/plain": [
       "<Figure size 936x432 with 1 Axes>"
      ]
     },
     "metadata": {},
     "output_type": "display_data"
    }
   ],
   "source": [
    "plt.figure(figsize=(13, 6))\n",
    "df.groupby('customer_id').sum().sort_values(by='trip_fare',ascending=False)['trip_fare'].head(20).plot.bar(color='turquoise')\n",
    "plt.ylabel('Total money spent on services')\n",
    "plt.title(\"TOP 20 Customers on Monetary Basis\")\n",
    "plt.show()"
   ]
  },
  {
   "cell_type": "markdown",
   "metadata": {},
   "source": [
    "**Distribution of travel distance to understand the majority range of distance Rapido is preferred:**"
   ]
  },
  {
   "cell_type": "code",
   "execution_count": 94,
   "metadata": {},
   "outputs": [
    {
     "data": {
      "image/png": "[encoded data removed]",
      "text/plain": [
       "<Figure size 936x432 with 1 Axes>"
      ]
     },
     "metadata": {},
     "output_type": "display_data"
    },
    {
     "name": "stdout",
     "output_type": "stream",
     "text": [
      "Mean: 5.095215900933212\n",
      "Median: 4.3\n"
     ]
    }
   ],
   "source": [
    "plt.figure(figsize=(13, 6))\n",
    "sns.distplot(df['travel_distance'],color='lightpink')\n",
    "plt.axvline(df['travel_distance'].mean(),color='g',label='mean')\n",
    "# create a red line plot for median  on the density plot:\n",
    "plt.axvline(df['travel_distance'].median(),color='r',label='mean')\n",
    "plt.show()\n",
    "print('Mean:',df['travel_distance'].mean())\n",
    "print('Median:',df['travel_distance'].median())"
   ]
  },
  {
   "cell_type": "markdown",
   "metadata": {},
   "source": [
    "#### Checking distribution of number of trips by a customer:"
   ]
  },
  {
   "cell_type": "code",
   "execution_count": 97,
   "metadata": {},
   "outputs": [
    {
     "data": {
      "image/png": "[encoded data removed]",
      "text/plain": [
       "<Figure size 936x432 with 1 Axes>"
      ]
     },
     "metadata": {},
     "output_type": "display_data"
    },
    {
     "name": "stdout",
     "output_type": "stream",
     "text": [
      "Mean: 2.3296749242186685\n",
      "Median: 1.0\n"
     ]
    }
   ],
   "source": [
    "z=df.groupby('customer_id').count().sort_values(by='trip_id',ascending=False)['trip_id']\n",
    "plt.figure(figsize=(13, 6))\n",
    "sns.distplot(z,color='lightpink')\n",
    "plt.axvline(z.mean(),color='g',label='mean')\n",
    "# create a red line plot for median  on the density plot:\n",
    "plt.axvline(z.median(),color='r',label='mean')\n",
    "\n",
    "plt.show()\n",
    "print('Mean:',z.mean())\n",
    "print('Median:',z.median())"
   ]
  },
  {
   "cell_type": "markdown",
   "metadata": {},
   "source": [
    "**As we can see Median is 1, we can understand people used the app just for first free ride. Checking the percentage of un-returned user. These customers used the app just because of discount. Different market strategy can be plotted for this set of customer. Checking percentage of such customers:**"
   ]
  },
  {
   "cell_type": "code",
   "execution_count": 108,
   "metadata": {},
   "outputs": [
    {
     "data": {
      "text/plain": [
       "52.29957144350371"
      ]
     },
     "execution_count": 108,
     "metadata": {},
     "output_type": "execute_result"
    }
   ],
   "source": [
    "z[z==1].sum()/z.shape[0]*100 #52% of the total customers. "
   ]
  },
  {
   "cell_type": "markdown",
   "metadata": {},
   "source": [
    "***This can be a metric to evaluate the product in longer run also***"
   ]
  },
  {
   "cell_type": "markdown",
   "metadata": {},
   "source": [
    "Checking intra correlation:"
   ]
  },
  {
   "cell_type": "code",
   "execution_count": 120,
   "metadata": {},
   "outputs": [
    {
     "data": {
      "text/plain": [
       "<matplotlib.axes._subplots.AxesSubplot at 0x21f0d5cf208>"
      ]
     },
     "execution_count": 120,
     "metadata": {},
     "output_type": "execute_result"
    },
    {
     "data": {
      "image/png": "[encoded data removed]",
      "text/plain": [
       "<Figure size 432x288 with 2 Axes>"
      ]
     },
     "metadata": {},
     "output_type": "display_data"
    }
   ],
   "source": [
    "corr = df[['travel_distance','travel_time','trip_fare']].corr()\n",
    "sns.heatmap(corr,annot=True,cmap='GnBu')"
   ]
  },
  {
   "cell_type": "markdown",
   "metadata": {},
   "source": [
    "The reason for such high correlation between travel_time and trip fare is because sometimes the ride wasnt marked completed and calculated as travel time. Such instances where travel time is 300-600(5-11hrs) mins is because of the same error possibly."
   ]
  },
  {
   "cell_type": "markdown",
   "metadata": {},
   "source": [
    "**Analysis on the basis of TIME:**"
   ]
  },
  {
   "cell_type": "markdown",
   "metadata": {},
   "source": [
    "#### As we figured out 2019 january of first week. We'll check for busiest week and busiest time in day."
   ]
  },
  {
   "cell_type": "code",
   "execution_count": 158,
   "metadata": {},
   "outputs": [],
   "source": [
    "df_time=df.copy()\n",
    "df_time['day']=pd.DatetimeIndex(df['timestamp']).day"
   ]
  },
  {
   "cell_type": "code",
   "execution_count": 163,
   "metadata": {},
   "outputs": [],
   "source": [
    "df_time['day']=df_time['day'].replace({1:'Tue',2:'Wed',3:'Thu',4:'Fri',5:'Sat',6:'Sun',7:'Mon'})"
   ]
  },
  {
   "cell_type": "code",
   "execution_count": 164,
   "metadata": {},
   "outputs": [
    {
     "data": {
      "text/plain": [
       "day\n",
       "Fri    8511\n",
       "Mon    8784\n",
       "Sat    6854\n",
       "Sun    4574\n",
       "Thu    8034\n",
       "Tue      54\n",
       "Wed    7765\n",
       "Name: trip_id, dtype: int64"
      ]
     },
     "execution_count": 164,
     "metadata": {},
     "output_type": "execute_result"
    }
   ],
   "source": [
    "df_time.groupby('day').count()['trip_id']"
   ]
  },
  {
   "cell_type": "markdown",
   "metadata": {},
   "source": [
    "**We'll remove Tue because of incorrect sampling. Tue will not be able to represent true value of rapido trips on tuesday**"
   ]
  },
  {
   "cell_type": "code",
   "execution_count": 175,
   "metadata": {},
   "outputs": [
    {
     "data": {
      "image/png": "[encoded data removed]",
      "text/plain": [
       "<Figure size 432x288 with 1 Axes>"
      ]
     },
     "metadata": {},
     "output_type": "display_data"
    }
   ],
   "source": [
    "z=df_time.copy()\n",
    "z=z[~(z['day']=='Tue')]\n",
    "(z.groupby('day').count()['trip_id']).sort_values(ascending=False).plot(kind='bar',color='coral')\n",
    "plt.show()"
   ]
  },
  {
   "cell_type": "markdown",
   "metadata": {},
   "source": [
    "***Monday is the busiest day and Sunday is the least busiest day. This data can be used to infer that rapido is used on working days more because it is a cheaper mode of transport.***"
   ]
  },
  {
   "cell_type": "markdown",
   "metadata": {},
   "source": [
    "**We'll bucket time of the day in segments of one hour each and analyse peak hours:**"
   ]
  },
  {
   "cell_type": "code",
   "execution_count": 181,
   "metadata": {},
   "outputs": [],
   "source": [
    "timeslot=pd.Series(pd.DatetimeIndex(df['timestamp']).hour).value_counts(normalize=True)*100"
   ]
  },
  {
   "cell_type": "code",
   "execution_count": 194,
   "metadata": {},
   "outputs": [],
   "source": [
    "timeofday=['Early-Morning','Morning','Mid-day','Evening/Night','Late Night']\n",
    "value=[]\n",
    "value.append(timeslot[[3,4,5,6]].sum())\n",
    "value.append(timeslot[[7,8,9,10,11]].sum())\n",
    "value.append(timeslot[[12,13,14,15,16]].sum())\n",
    "value.append(timeslot[[17,18,19,20,21]].sum())\n",
    "value.append(timeslot[[22,23,0,1,2]].sum())"
   ]
  },
  {
   "cell_type": "code",
   "execution_count": 198,
   "metadata": {},
   "outputs": [
    {
     "data": {
      "image/png": "[encoded data removed]",
      "text/plain": [
       "<Figure size 432x288 with 1 Axes>"
      ]
     },
     "metadata": {},
     "output_type": "display_data"
    }
   ],
   "source": [
    "plt.bar(timeofday,value,color='coral')\n",
    "plt.show()"
   ]
  },
  {
   "cell_type": "markdown",
   "metadata": {},
   "source": [
    "***Mid-day,Early-Morning and Morning are the peak hours. Which is a major insight for the company***"
   ]
  },
  {
   "cell_type": "markdown",
   "metadata": {},
   "source": [
    "*Another important metric that can be used for product evaluation is **Average time between first two trips**. If the company is able to keep the metric consistent it is a neutral sign. If the mean is coming down, it is a sign of increased frequency of use and the other way round can be 2 possibilities: 1) Less frequent usage of product 2) Sign of returning users. Users returning after a long time will be outliers to this data and increase the mean hence analysis have to be done accordingly.*"
   ]
  },
  {
   "cell_type": "code",
   "execution_count": 230,
   "metadata": {},
   "outputs": [],
   "source": [
    "a=df.groupby('customer_id').count()['trip_id']\n",
    "a=a[a>1]\n",
    "imp_users=a.index"
   ]
  },
  {
   "cell_type": "code",
   "execution_count": 231,
   "metadata": {},
   "outputs": [],
   "source": [
    "l=[]\n",
    "for i in imp_users:\n",
    "    date1 = df[df['customer_id']==i].sort_values(by='timestamp',ascending=True).head(2).iloc[0]['timestamp']\n",
    "    date2 = df[df['customer_id']==i].sort_values(by='timestamp',ascending=True).head(2).iloc[1]['timestamp']\n",
    "    l.append(date2-date1)"
   ]
  },
  {
   "cell_type": "code",
   "execution_count": 233,
   "metadata": {},
   "outputs": [
    {
     "name": "stdout",
     "output_type": "stream",
     "text": [
      "Current average time between first two trips: 1 days 00:46:52.424126\n"
     ]
    }
   ],
   "source": [
    "print('Current average time between first two trips:',np.mean(l))"
   ]
  },
  {
   "cell_type": "code",
   "execution_count": null,
   "metadata": {},
   "outputs": [],
   "source": [
    "l=pd.DataFrame(l,columns=['delta'])"
   ]
  },
  {
   "cell_type": "code",
   "execution_count": 244,
   "metadata": {},
   "outputs": [
    {
     "data": {
      "image/png": "[encoded data removed]",
      "text/plain": [
       "<Figure size 432x288 with 1 Axes>"
      ]
     },
     "metadata": {},
     "output_type": "display_data"
    }
   ],
   "source": [
    "sns.distplot(l['delta'].astype('timedelta64[m]'), hist=False,color='coral')\n",
    "plt.show()"
   ]
  },
  {
   "cell_type": "markdown",
   "metadata": {},
   "source": [
    "***The distribution of time difference metric in minutes. The graph is very unique but a poisitive sign as majority returning customers are at the lower end which means the user is using the product again in some time, this could be because of a return trip also***"
   ]
  }
 ],
 "metadata": {
  "kernelspec": {
   "display_name": "Python 3",
   "language": "python",
   "name": "python3"
  },
  "language_info": {
   "codemirror_mode": {
    "name": "ipython",
    "version": 3
   },
   "file_extension": ".py",
   "mimetype": "text/x-python",
   "name": "python",
   "nbconvert_exporter": "python",
   "pygments_lexer": "ipython3",
   "version": "3.7.3"
  }
 },
 "nbformat": 4,
 "nbformat_minor": 2
}
